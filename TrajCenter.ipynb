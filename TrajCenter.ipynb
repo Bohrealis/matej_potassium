{
 "cells": [
  {
   "cell_type": "code",
   "execution_count": 2,
   "id": "9b04ffe8-d387-4e59-9158-31099d1796a1",
   "metadata": {},
   "outputs": [
    {
     "name": "stderr",
     "output_type": "stream",
     "text": [
      "C:\\Users\\methy\\anaconda3\\envs\\vasp\\Lib\\site-packages\\Bio\\Application\\__init__.py:40: BiopythonDeprecationWarning: The Bio.Application modules and modules relying on it have been deprecated.\n",
      "\n",
      "Due to the on going maintenance burden of keeping command line application\n",
      "wrappers up to date, we have decided to deprecate and eventually remove these\n",
      "modules.\n",
      "\n",
      "We instead now recommend building your command line and invoking it directly\n",
      "with the subprocess module.\n",
      "  warnings.warn(\n"
     ]
    },
    {
     "data": {
      "application/vnd.jupyter.widget-view+json": {
       "model_id": "171320024396488ebec2da69699fbb75",
       "version_major": 2,
       "version_minor": 0
      },
      "text/plain": []
     },
     "metadata": {},
     "output_type": "display_data"
    }
   ],
   "source": [
    "import numpy as np\n",
    "import MDAnalysis as mda\n",
    "import MDAnalysis.transformations as trans\n",
    "import nglview as nv\n",
    "import copy\n",
    "from ase import io as aio"
   ]
  },
  {
   "cell_type": "code",
   "execution_count": 3,
   "id": "6b205112-e81b-4f8b-8826-1521646c8ae2",
   "metadata": {},
   "outputs": [],
   "source": [
    "Path = 'C:/Users/methy/OneDrive - Colostate/GMX/Urea_Sims/MatejCluster/'\n",
    "\n",
    "u = mda.Universe(Path+'WaterCluster.Anneal.tpr',Path+'WaterCluster.Anneal.trr')\n"
   ]
  },
  {
   "cell_type": "code",
   "execution_count": 4,
   "id": "572bd314-dc68-41fe-ab19-ceebba6674df",
   "metadata": {},
   "outputs": [],
   "source": [
    "cluster = u.select_atoms('resname ION')\n",
    "water = u.select_atoms('resname SOL')\n",
    "whole = u.select_atoms('resname SOL or resname ION')\n",
    "\n",
    "transforms = [trans.unwrap(cluster),\n",
    "              trans.center_in_box(cluster,wrap=True),\n",
    "              trans.wrap(water)]\n",
    "\n",
    "u.trajectory.add_transformations(*transforms)\n",
    "    "
   ]
  },
  {
   "cell_type": "code",
   "execution_count": 5,
   "id": "8cbdab48-2f3f-4f2e-86e3-06faf3543631",
   "metadata": {},
   "outputs": [
    {
     "data": {
      "application/vnd.jupyter.widget-view+json": {
       "model_id": "8efbae3534624e468686548d8fc075eb",
       "version_major": 2,
       "version_minor": 0
      },
      "text/plain": [
       "NGLWidget(max_frame=1000)"
      ]
     },
     "metadata": {},
     "output_type": "display_data"
    }
   ],
   "source": [
    "#view = nv.show_mdanalysis(u)\n",
    "#view.add_representation('spacefill','resname SOL')\n",
    "#view.center()\n",
    "#view"
   ]
  },
  {
   "cell_type": "code",
   "execution_count": 46,
   "id": "e04219fb-142c-4f93-8e6b-1e3564248672",
   "metadata": {},
   "outputs": [],
   "source": [
    "# writing results to file with on-the-fly transformations, writing to trr\n",
    "#with mda.Writer(Path+'Matej_Centered.Anneal.trr',whole.n_atoms) as f:\n",
    "#    for ts in u.trajectory:\n",
    "#        #u.trajectory[ts.frame]\n",
    "#        #print(cluster.center_of_mass())\n",
    "#        f.write(whole)\n",
    "    "
   ]
  },
  {
   "cell_type": "code",
   "execution_count": 47,
   "id": "38304ec0-b42e-4d93-8635-d5d2af35a6c0",
   "metadata": {},
   "outputs": [],
   "source": [
    "# writing selected frame to PDB file\n",
    "#with mda.Writer(Path+'GoodStart.pdb',whole.n_atoms) as f:\n",
    "#    for ts in u.trajectory:\n",
    "#        if ts.frame == 954:\n",
    "#            f.write(whole)\n",
    "#        else:\n",
    "#            #print(ts.frame)\n"
   ]
  },
  {
   "cell_type": "code",
   "execution_count": 45,
   "id": "8a609c70-8716-4d24-84b0-670f7d3bd132",
   "metadata": {},
   "outputs": [],
   "source": [
    "# writing to POSCAR using ASE utility\n",
    "# ASE knows how to format it properly and I don't so I can't hardcode it\n",
    "# HOWEVER, you need to shuffle atoms to appear nicely in POSCAR, so the fanciness here\n",
    "# is all to shuffle atoms into like kinds as groups\n",
    "\n",
    "sort = {}\n",
    "Atomkey = {'POT':'K','OW':'O','HW1':'H','HW2':'H'}\n",
    "\n",
    "with open(Path+'GoodStart.pdb','r') as fread:\n",
    "        for line in fread.readlines():\n",
    "            if 'ATOM' in line.split()[0]:\n",
    "                if not Atomkey[line.split()[2]] in sort:\n",
    "                    sort[Atomkey[line.split()[2]]] = [line.rstrip()]\n",
    "                else:\n",
    "                    sort[Atomkey[line.split()[2]]].append(line.rstrip())\n",
    "\n",
    "ordering = ['K','O','H']\n",
    "# collapsing dictionary into list\n",
    "atomlist = []\n",
    "for item in ordering:\n",
    "    [atomlist.append(sort[item][i]) for i in range(len(sort[item]))]\n",
    "\n",
    "# renumbering atoms in new order\n",
    "iterator = 1\n",
    "for i in range(len(atomlist)):\n",
    "    line = atomlist[i]\n",
    "    newline = line.split()[0]+str(iterator).rjust(7)+line[11:]\n",
    "    atomlist[i] = newline\n",
    "    iterator += 1\n",
    "\n",
    "writefile = []\n",
    "iterator = 0\n",
    "with open(Path+'GoodStart.pdb','r') as fread:\n",
    "    with open(Path+'GoodStart_Sorted.pdb','w') as fwrite:\n",
    "        for line in fread.readlines():\n",
    "            if 'ATOM' in line.split()[0]:\n",
    "                writefile.append(atomlist[iterator])\n",
    "                iterator += 1\n",
    "            else:\n",
    "                writefile.append(line.rstrip())\n",
    "        \n",
    "        fwrite.writelines(line+'\\n' for line in writefile)\n",
    "\n",
    "Conv = aio.read(Path+'GoodStart_Sorted.pdb',index=0,format='proteindatabank')\n",
    "Conv.write(Path+'POSCAR.Test',format='vasp')"
   ]
  },
  {
   "cell_type": "code",
   "execution_count": null,
   "id": "f269472b-925e-4c78-8558-d102b50738de",
   "metadata": {},
   "outputs": [],
   "source": []
  },
  {
   "cell_type": "code",
   "execution_count": null,
   "id": "3687e42e-fb06-4cdc-b418-e80a25c92193",
   "metadata": {},
   "outputs": [],
   "source": []
  }
 ],
 "metadata": {
  "kernelspec": {
   "display_name": "Python 3 (ipykernel)",
   "language": "python",
   "name": "python3"
  },
  "language_info": {
   "codemirror_mode": {
    "name": "ipython",
    "version": 3
   },
   "file_extension": ".py",
   "mimetype": "text/x-python",
   "name": "python",
   "nbconvert_exporter": "python",
   "pygments_lexer": "ipython3",
   "version": "3.11.9"
  }
 },
 "nbformat": 4,
 "nbformat_minor": 5
}
